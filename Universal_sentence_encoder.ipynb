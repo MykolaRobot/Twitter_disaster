{
  "nbformat": 4,
  "nbformat_minor": 0,
  "metadata": {
    "colab": {
      "name": "Universal_sentence_encoder.ipynb",
      "provenance": []
    },
    "kernelspec": {
      "name": "python3",
      "display_name": "Python 3"
    }
  },
  "cells": [
    {
      "cell_type": "code",
      "metadata": {
        "id": "NnGqDqwescCm",
        "colab_type": "code",
        "colab": {}
      },
      "source": [
        "%%capture\n",
        "# Install the latest Tensorflow version.\n",
        "!pip3 install --upgrade tensorflow-gpu\n",
        "# Install TF-Hub.\n",
        "!pip3 install tensorflow-hub\n",
        "!pip3 install seaborn"
      ],
      "execution_count": 0,
      "outputs": []
    },
    {
      "cell_type": "code",
      "metadata": {
        "id": "3QcuEltvseyD",
        "colab_type": "code",
        "outputId": "9c029e8e-8fe7-4949-f8ff-1f62a9253660",
        "colab": {
          "base_uri": "https://localhost:8080/",
          "height": 34
        }
      },
      "source": [
        "#@title Load the Universal Sentence Encoder's TF Hub module\n",
        "from absl import logging\n",
        "\n",
        "import tensorflow as tf\n",
        "import tensorflow_hub as hub\n",
        "import matplotlib.pyplot as plt\n",
        "import numpy as np\n",
        "import os\n",
        "import pandas as pd\n",
        "import re\n",
        "import seaborn as sns\n",
        "\n",
        "module_url = \"https://tfhub.dev/google/universal-sentence-encoder/4\" #@param [\"https://tfhub.dev/google/universal-sentence-encoder/4\", \"https://tfhub.dev/google/universal-sentence-encoder-large/5\"]\n",
        "model = hub.load(module_url)\n",
        "print (\"module %s loaded\" % module_url)\n",
        "def embed(input):\n",
        "  return model(input)"
      ],
      "execution_count": 0,
      "outputs": [
        {
          "output_type": "stream",
          "text": [
            "module https://tfhub.dev/google/universal-sentence-encoder/4 loaded\n"
          ],
          "name": "stdout"
        }
      ]
    },
    {
      "cell_type": "code",
      "metadata": {
        "id": "rG5wI5J2sww9",
        "colab_type": "code",
        "colab": {}
      },
      "source": [
        "# # test\n",
        "# messages = ['My name is Mykola']\n",
        "# message_embeddings = embed(messages)"
      ],
      "execution_count": 0,
      "outputs": []
    },
    {
      "cell_type": "code",
      "metadata": {
        "id": "ZTj8g5Il6Lex",
        "colab_type": "code",
        "outputId": "60976733-d94d-4bc2-abbf-1a578ebed3e2",
        "colab": {
          "base_uri": "https://localhost:8080/",
          "height": 34
        }
      },
      "source": [
        "from google.colab import drive\n",
        "drive.mount('/content/drive')"
      ],
      "execution_count": 0,
      "outputs": [
        {
          "output_type": "stream",
          "text": [
            "Drive already mounted at /content/drive; to attempt to forcibly remount, call drive.mount(\"/content/drive\", force_remount=True).\n"
          ],
          "name": "stdout"
        }
      ]
    },
    {
      "cell_type": "code",
      "metadata": {
        "id": "77LqS8l9dFYG",
        "colab_type": "code",
        "outputId": "a362733b-328e-4efc-8118-cef7f83eb30c",
        "colab": {
          "base_uri": "https://localhost:8080/",
          "height": 153
        }
      },
      "source": [
        "# load data and combine train test\n",
        "train_df = pd.read_csv('/content/drive/My Drive/train.csv')\n",
        "test_df = pd.read_csv('/content/drive/My Drive/test.csv')\n",
        "train_df['split'] = 'train'\n",
        "test_df['split'] = 'test'\n",
        "df = pd.concat([train_df, test_df], axis = 0)"
      ],
      "execution_count": 0,
      "outputs": [
        {
          "output_type": "stream",
          "text": [
            "/usr/local/lib/python3.6/dist-packages/ipykernel_launcher.py:5: FutureWarning: Sorting because non-concatenation axis is not aligned. A future version\n",
            "of pandas will change to not sort by default.\n",
            "\n",
            "To accept the future behavior, pass 'sort=False'.\n",
            "\n",
            "To retain the current behavior and silence the warning, pass 'sort=True'.\n",
            "\n",
            "  \"\"\"\n"
          ],
          "name": "stderr"
        }
      ]
    },
    {
      "cell_type": "code",
      "metadata": {
        "id": "vgCerXC46kMZ",
        "colab_type": "code",
        "colab": {}
      },
      "source": [
        "s = test_df['text']"
      ],
      "execution_count": 0,
      "outputs": []
    },
    {
      "cell_type": "code",
      "metadata": {
        "id": "TEmeke1P6vz0",
        "colab_type": "code",
        "colab": {}
      },
      "source": [
        "message_embeddings = embed(s)"
      ],
      "execution_count": 0,
      "outputs": []
    },
    {
      "cell_type": "code",
      "metadata": {
        "id": "rFDnXNHl6025",
        "colab_type": "code",
        "colab": {}
      },
      "source": [
        "vector_repr = list()\n",
        "for i, message_embedding in enumerate(np.array(message_embeddings).tolist()):\n",
        "  vector_repr.append(message_embedding)\n",
        "  # print(\"Message: {}\".format(s[i]))\n",
        "  # print(\"Embedding size: {}\".format(len(message_embedding)))\n",
        "  # message_embedding_snippet = \", \".join(\n",
        "  #     (str(x) for x in message_embedding[:3]))\n",
        "  # print(\"Embedding: [{}, ...]\\n\".format(message_embedding_snippet))"
      ],
      "execution_count": 0,
      "outputs": []
    },
    {
      "cell_type": "code",
      "metadata": {
        "id": "5lN96fXs8ebe",
        "colab_type": "code",
        "outputId": "87c6664d-d9b4-41a8-f1ec-be20823fb448",
        "colab": {
          "base_uri": "https://localhost:8080/",
          "height": 34
        }
      },
      "source": [
        "len(vector_repr)"
      ],
      "execution_count": 0,
      "outputs": [
        {
          "output_type": "execute_result",
          "data": {
            "text/plain": [
              "3263"
            ]
          },
          "metadata": {
            "tags": []
          },
          "execution_count": 34
        }
      ]
    },
    {
      "cell_type": "code",
      "metadata": {
        "id": "Dwna2rZYYybS",
        "colab_type": "code",
        "colab": {}
      },
      "source": [
        "test_df['vector_repr'] = vector_repr"
      ],
      "execution_count": 0,
      "outputs": []
    },
    {
      "cell_type": "code",
      "metadata": {
        "id": "5f4l2FPHY4a2",
        "colab_type": "code",
        "outputId": "d7577e0a-2227-4da0-ea42-2150f3179769",
        "colab": {
          "base_uri": "https://localhost:8080/",
          "height": 221
        }
      },
      "source": [
        "test_df['vector_repr']"
      ],
      "execution_count": 0,
      "outputs": [
        {
          "output_type": "execute_result",
          "data": {
            "text/plain": [
              "0       [-0.06240411847829819, 0.062001701444387436, -...\n",
              "1       [-0.013344700448215008, 0.017045337706804276, ...\n",
              "2       [0.05268430709838867, -0.013914492912590504, 0...\n",
              "3       [0.06354103982448578, 0.008099453523755074, 0....\n",
              "4       [-0.011210323311388493, -0.005041045136749744,...\n",
              "                              ...                        \n",
              "3258    [0.07489105314016342, -0.00889924168586731, -0...\n",
              "3259    [-0.05895591154694557, -0.02760453335940838, -...\n",
              "3260    [0.07666266709566116, 0.0014127250760793686, 0...\n",
              "3261    [0.07673817127943039, 0.0021716777700930834, -...\n",
              "3262    [0.047076642513275146, -0.004590601194649935, ...\n",
              "Name: vector_repr, Length: 3263, dtype: object"
            ]
          },
          "metadata": {
            "tags": []
          },
          "execution_count": 36
        }
      ]
    },
    {
      "cell_type": "code",
      "metadata": {
        "id": "uM3j7VZWYWzq",
        "colab_type": "code",
        "colab": {}
      },
      "source": [
        "test_df.to_csv('use_test.csv', index = False)"
      ],
      "execution_count": 0,
      "outputs": []
    },
    {
      "cell_type": "code",
      "metadata": {
        "id": "6ozpWjJico42",
        "colab_type": "code",
        "colab": {}
      },
      "source": [
        ""
      ],
      "execution_count": 0,
      "outputs": []
    }
  ]
}